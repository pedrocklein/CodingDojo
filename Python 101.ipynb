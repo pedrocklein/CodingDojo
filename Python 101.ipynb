{
 "cells": [
  {
   "cell_type": "code",
   "execution_count": 1,
   "metadata": {},
   "outputs": [
    {
     "name": "stdout",
     "output_type": "stream",
     "text": [
      "Populating the interactive namespace from numpy and matplotlib\n"
     ]
    }
   ],
   "source": [
    "%pylab inline"
   ]
  },
  {
   "cell_type": "markdown",
   "metadata": {},
   "source": [
    "# Welcome to Jupyter! \n",
    "Basically, this is a web based interface for coding in Python. This is just one way of using python. But it is a very nice way! =)"
   ]
  },
  {
   "cell_type": "markdown",
   "metadata": {},
   "source": [
    "The Jupyter structure the code into \"*cells*\". Each cell acts as an independent \"*structured running code*\". \n",
    "This means that we can have several different code snippets and run them independently."
   ]
  },
  {
   "cell_type": "code",
   "execution_count": 42,
   "metadata": {
    "collapsed": true
   },
   "outputs": [],
   "source": [
    "a = \"This was hard do comprehend!!!\""
   ]
  },
  {
   "cell_type": "code",
   "execution_count": 45,
   "metadata": {},
   "outputs": [
    {
     "name": "stdout",
     "output_type": "stream",
     "text": [
      "Ohh... now I see!\n"
     ]
    }
   ],
   "source": [
    "print a"
   ]
  },
  {
   "cell_type": "code",
   "execution_count": 44,
   "metadata": {
    "collapsed": true
   },
   "outputs": [],
   "source": [
    "a = \"Ohh... now I see!\""
   ]
  },
  {
   "cell_type": "markdown",
   "metadata": {},
   "source": [
    "Jupyter is good in showing results on the fly. It prints outputs directly under the cells and it is also good with plottings!"
   ]
  },
  {
   "cell_type": "code",
   "execution_count": 46,
   "metadata": {},
   "outputs": [
    {
     "name": "stdout",
     "output_type": "stream",
     "text": [
      "Populating the interactive namespace from numpy and matplotlib\n",
      "a: [ 0.63849997  0.21811624  0.738927    0.88215232  0.23646994  0.72991379\n",
      "  0.9538713   0.68278181  0.02604185  0.78859732]\n",
      "b: [ 0.6166578   0.57225024  0.89811288  0.17939937  0.45415867  0.51299641\n",
      "  0.53223213  0.18740548  0.54800092  0.57578938]\n"
     ]
    },
    {
     "data": {
      "text/plain": [
       "<matplotlib.collections.PathCollection at 0x7f8a25318bd0>"
      ]
     },
     "execution_count": 46,
     "metadata": {},
     "output_type": "execute_result"
    },
    {
     "data": {
      "image/png": "[encoded data removed]",
      "text/plain": [
       "<matplotlib.figure.Figure at 0x7f8a27e1ed10>"
      ]
     },
     "metadata": {},
     "output_type": "display_data"
    }
   ],
   "source": [
    "%pylab inline\n",
    "\n",
    "a = rand(10) #python have a \"random\" function native\n",
    "b = rand(10)\n",
    "print 'a:', a\n",
    "print 'b:' , b\n",
    "plt.scatter(a, b)"
   ]
  },
  {
   "cell_type": "markdown",
   "metadata": {},
   "source": [
    "# Now back to the Python"
   ]
  },
  {
   "cell_type": "markdown",
   "metadata": {},
   "source": [
    "According to the W3Schools:\n",
    "- Python was designed to for readability, and has some similarities to the English language with influence from mathematics.\n",
    "- Python uses new lines to complete a command, as opposed to other programming languages which often use semicolons or parentheses.\n",
    "- Python relies on indentation, using whitespace, to define scope; such as the scope of loops, functions and classes. Other programming languages often use curly-brackets for this purpose."
   ]
  },
  {
   "cell_type": "markdown",
   "metadata": {},
   "source": [
    "And what exactly does this means?"
   ]
  },
  {
   "cell_type": "code",
   "execution_count": 4,
   "metadata": {},
   "outputs": [
    {
     "name": "stdout",
     "output_type": "stream",
     "text": [
      "Monday None\n",
      "Tuesday None\n",
      "Wednesday None\n",
      "Thursday None\n",
      "Friday None\n",
      "Saturday (Weekend)\n",
      "Sunday (Weekend)\n"
     ]
    }
   ],
   "source": [
    "#Declaring an array of strings with the weekdays\n",
    "week = ['Monday', 'Tuesday', 'Wednesday', 'Thursday', 'Friday', 'Saturday', 'Sunday'] \n",
    "\n",
    "# Accessing the last two elements of the weekdays array (python is 0-indexed)\n",
    "weekend = [week[5], week[6]] \n",
    "\n",
    "#this is a for loop\n",
    "for day in week:\n",
    "    # this is what runs inside the for loop (idented) and written with a one line if statement \n",
    "                                                                    # (we will see more on that in the future ;-) )\n",
    "    print day + ' (Weekend)' if day in weekend else None "
   ]
  },
  {
   "cell_type": "markdown",
   "metadata": {},
   "source": [
    "# Same, but different?"
   ]
  },
  {
   "cell_type": "markdown",
   "metadata": {},
   "source": [
    "Python have a lot of particularities, some people love it by it, some other hate it by the very same reasons. But in its essence, Python is just a programming language! Just a tool for whatever the purposes. And it shares a lot of characteristic with other languages."
   ]
  },
  {
   "cell_type": "markdown",
   "metadata": {},
   "source": [
    "### variables"
   ]
  },
  {
   "cell_type": "code",
   "execution_count": 20,
   "metadata": {},
   "outputs": [
    {
     "name": "stdout",
     "output_type": "stream",
     "text": [
      "1\n"
     ]
    }
   ],
   "source": [
    "a = 1\n",
    "print a"
   ]
  },
  {
   "cell_type": "markdown",
   "metadata": {},
   "source": [
    "### mathematic operations"
   ]
  },
  {
   "cell_type": "code",
   "execution_count": 6,
   "metadata": {},
   "outputs": [
    {
     "name": "stdout",
     "output_type": "stream",
     "text": [
      "a: 1\n",
      "b: 2\n",
      "c: 6\n"
     ]
    }
   ],
   "source": [
    "b = a + 1\n",
    "c = (a + b) * 2 #precedence of operators still applies though!\n",
    "\n",
    "print 'a: %i' % a #command for output using %i as a placeholder\n",
    "print 'b: %i' % b\n",
    "print 'c: %i' % c"
   ]
  },
  {
   "cell_type": "markdown",
   "metadata": {},
   "source": [
    "### if-else conditionals"
   ]
  },
  {
   "cell_type": "code",
   "execution_count": 19,
   "metadata": {},
   "outputs": [
    {
     "name": "stdout",
     "output_type": "stream",
     "text": [
      "What week day is today?Thursday\n",
      "Today is Thursday\n"
     ]
    }
   ],
   "source": [
    "day = raw_input (\"What week day is today?\") #this is how we input data on Jupyter, for regular python we use \"input\"\n",
    "\n",
    "if day in weekend: #if statement\n",
    "    print \"Today is %s\" % day + '(Weekend! Huray! =) )' #remember identation!\n",
    "elif day in week: #else if keyword, but nesting an if inside a regular else also works\n",
    "    print \"Today is %s\" % day\n",
    "else: #self explanatory, I guess...\n",
    "    print \"That is not a weekday!\""
   ]
  },
  {
   "cell_type": "markdown",
   "metadata": {},
   "source": [
    "### Loops"
   ]
  },
  {
   "cell_type": "code",
   "execution_count": 22,
   "metadata": {},
   "outputs": [
    {
     "name": "stdout",
     "output_type": "stream",
     "text": [
      "Monday\n",
      "Tuesday\n",
      "Wednesday\n",
      "Thursday\n",
      "Friday\n",
      "Saturday\n",
      "Sunday\n"
     ]
    }
   ],
   "source": [
    "#for loop\n",
    "for day in week:\n",
    "    print day"
   ]
  },
  {
   "cell_type": "code",
   "execution_count": 29,
   "metadata": {},
   "outputs": [
    {
     "name": "stdout",
     "output_type": "stream",
     "text": [
      "What day is today? (type 'quit' to exit)quit\n",
      "quit is not a weekday!\n"
     ]
    }
   ],
   "source": [
    "#while loops\n",
    "day = '' #initialization of variables\n",
    "while day != 'quit': # != is the symbol of unequality (==, >, >=, <, <=)\n",
    "    day = raw_input(\"What day is today? (type 'quit' to exit)\")\n",
    "    if day in week:\n",
    "        if day in weekend:\n",
    "            print \"%s is weekend!\" % day\n",
    "        else:\n",
    "            print \"%s is not weekend!\" % day\n",
    "    else:\n",
    "        print \"%s is not a weekday!\" % day\n",
    "        "
   ]
  },
  {
   "cell_type": "markdown",
   "metadata": {},
   "source": [
    "### Functions"
   ]
  },
  {
   "cell_type": "markdown",
   "metadata": {},
   "source": [
    "In python, we do have functions. The difference from Matlab function is that there is not a need for putting them in different files (although sometimes this would be advisable)."
   ]
  },
  {
   "cell_type": "code",
   "execution_count": 30,
   "metadata": {
    "collapsed": true
   },
   "outputs": [],
   "source": [
    "def print_message(message_that_we_want_to_be_printed):\n",
    "    print message_that_we_want_to_be_printed"
   ]
  },
  {
   "cell_type": "code",
   "execution_count": 31,
   "metadata": {},
   "outputs": [
    {
     "name": "stdout",
     "output_type": "stream",
     "text": [
      "Please type in your message: Hello World!\n",
      "Hello World!\n"
     ]
    }
   ],
   "source": [
    "print_message(raw_input(\"Please type in your message: \"))"
   ]
  },
  {
   "cell_type": "markdown",
   "metadata": {},
   "source": [
    "Functions in python can or cannot return a value from its execution. This value is represented by the **return** clause."
   ]
  },
  {
   "cell_type": "code",
   "execution_count": 32,
   "metadata": {
    "collapsed": true
   },
   "outputs": [],
   "source": [
    "def sum_numbers(element1, element2):\n",
    "    result = element1 + element2\n",
    "    return result"
   ]
  },
  {
   "cell_type": "code",
   "execution_count": 34,
   "metadata": {},
   "outputs": [
    {
     "name": "stdout",
     "output_type": "stream",
     "text": [
      "5044\n"
     ]
    }
   ],
   "source": [
    "print sum_numbers(1023, 4021)"
   ]
  },
  {
   "cell_type": "markdown",
   "metadata": {},
   "source": [
    "# But enough talk... Let's have some action!"
   ]
  },
  {
   "cell_type": "markdown",
   "metadata": {},
   "source": [
    "#### Exercise 1\n",
    "As part of an automated entrance system being developed for a bar, we need to develop a function that analyses the birth year of a costumer and tells the security system wether the costumer can or cannot enter the bar. For being allowed to enter, the costumer must be over 18."
   ]
  },
  {
   "cell_type": "code",
   "execution_count": 36,
   "metadata": {},
   "outputs": [],
   "source": [
    "#Function"
   ]
  },
  {
   "cell_type": "markdown",
   "metadata": {},
   "source": [
    "#### Exercise 2\n",
    "The World Cup of Rock, Paper, Scissor has hired you to develop an automated judge for their official games. So your job is to create a judge system that compares the inputs from two players and decides who wins. <br><br>\n",
    "Bonus: Implement a single player mode!"
   ]
  },
  {
   "cell_type": "code",
   "execution_count": null,
   "metadata": {
    "collapsed": true
   },
   "outputs": [],
   "source": [
    "#Function"
   ]
  },
  {
   "cell_type": "markdown",
   "metadata": {},
   "source": [
    "#### Exercise 3\n",
    "There is a demand for a module which calculates the Factorial of a number. Since this will be heavily used, there is a need for it to be as small as possible. So it is your job to develop a factorial function which uses the least ammount of lines (comments doesn't count, you can comment as much as you want!)."
   ]
  },
  {
   "cell_type": "code",
   "execution_count": 37,
   "metadata": {
    "collapsed": true
   },
   "outputs": [],
   "source": [
    "#Function"
   ]
  },
  {
   "cell_type": "markdown",
   "metadata": {},
   "source": [
    "#### Revisiting the Classics 01 - The Calculator\n",
    "You have been hired you to implement a calculator from scratch, since your contratant do not believe in built-in functions! So your job is to implement the four basic operations, but no built in functions and operators are allowed besides the '+'. Negative numbers, however, are allowed!"
   ]
  },
  {
   "cell_type": "code",
   "execution_count": 47,
   "metadata": {
    "collapsed": true
   },
   "outputs": [],
   "source": [
    "#Functions"
   ]
  },
  {
   "cell_type": "markdown",
   "metadata": {},
   "source": [
    "#### Revisiting the Classics 02 - The ATM\n",
    "Your contratant want you now to implement the brain of their future super safe ATM machines! So your job is to create a function that gets as an input a value to be withdrawn and outputs the ammount of each money bill to be handed to the clients. Since they still don't trust built-in functions, you should use your basic operation functions in order to calculate the ammount of money to be handed."
   ]
  },
  {
   "cell_type": "code",
   "execution_count": null,
   "metadata": {
    "collapsed": true
   },
   "outputs": [],
   "source": []
  }
 ],
 "metadata": {
  "kernelspec": {
   "display_name": "Python 2",
   "language": "python",
   "name": "python2"
  },
  "language_info": {
   "codemirror_mode": {
    "name": "ipython",
    "version": 2
   },
   "file_extension": ".py",
   "mimetype": "text/x-python",
   "name": "python",
   "nbconvert_exporter": "python",
   "pygments_lexer": "ipython2",
   "version": "2.7.14"
  }
 },
 "nbformat": 4,
 "nbformat_minor": 2
}
