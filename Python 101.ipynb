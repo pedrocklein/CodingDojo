{
 "cells": [
  {
   "cell_type": "markdown",
   "metadata": {},
   "source": [
    "# Welcome to Jupyter! \n",
    "Basically, this is a web based interface for coding in Python. This is just one way of using python. But it is a very nice way! =)"
   ]
  },
  {
   "cell_type": "markdown",
   "metadata": {},
   "source": [
    "The Jupyter structure the code into \"*cells*\". Each cell acts as an independent \"*structured running code*\". \n",
    "This means that we can have several different code snippets and run them independently."
   ]
  },
  {
   "cell_type": "code",
   "execution_count": 1,
   "metadata": {
    "collapsed": true
   },
   "outputs": [],
   "source": [
    "a = \"This was hard do comprehend!!!\""
   ]
  },
  {
   "cell_type": "code",
   "execution_count": 4,
   "metadata": {},
   "outputs": [
    {
     "name": "stdout",
     "output_type": "stream",
     "text": [
      "Ohh... now I see!\n"
     ]
    }
   ],
   "source": [
    "print a"
   ]
  },
  {
   "cell_type": "code",
   "execution_count": 3,
   "metadata": {
    "collapsed": true
   },
   "outputs": [],
   "source": [
    "a = \"Ohh... now I see!\""
   ]
  },
  {
   "cell_type": "markdown",
   "metadata": {},
   "source": [
    "Jupyter is good in showing results on the fly. It prints outputs directly under the cells and it is also good with plottings!"
   ]
  },
  {
   "cell_type": "code",
   "execution_count": 5,
   "metadata": {},
   "outputs": [
    {
     "name": "stdout",
     "output_type": "stream",
     "text": [
      "Populating the interactive namespace from numpy and matplotlib\n",
      "a: [5 0 9 0 3 2 9 8 7 2]\n",
      "b: [7 9 1 7 8 6 5 8 3 7]\n"
     ]
    },
    {
     "data": {
      "text/plain": [
       "<matplotlib.collections.PathCollection at 0x7fe663d38ad0>"
      ]
     },
     "execution_count": 5,
     "metadata": {},
     "output_type": "execute_result"
    },
    {
     "data": {
      "image/png": "[encoded data removed]",
      "text/plain": [
       "<matplotlib.figure.Figure at 0x7fe688382e50>"
      ]
     },
     "metadata": {},
     "output_type": "display_data"
    }
   ],
   "source": [
    "%pylab inline\n",
    "\n",
    "a = randint(0, 10, 10) #python have a \"random\" function native\n",
    "b = randint(0, 10, 10)\n",
    "print 'a:', a\n",
    "print 'b:' , b\n",
    "plt.scatter(a, b)"
   ]
  },
  {
   "cell_type": "markdown",
   "metadata": {},
   "source": [
    "# Now back to the Python"
   ]
  },
  {
   "cell_type": "markdown",
   "metadata": {},
   "source": [
    "According to the W3Schools:\n",
    "- Python was designed to for readability, and has some similarities to the English language with influence from mathematics.\n",
    "- Python uses new lines to complete a command, as opposed to other programming languages which often use semicolons or parentheses.\n",
    "- Python relies on indentation, using whitespace, to define scope; such as the scope of loops, functions and classes. Other programming languages often use curly-brackets for this purpose."
   ]
  },
  {
   "cell_type": "markdown",
   "metadata": {},
   "source": [
    "And what exactly does this means?"
   ]
  },
  {
   "cell_type": "code",
   "execution_count": 14,
   "metadata": {},
   "outputs": [
    {
     "name": "stdout",
     "output_type": "stream",
     "text": [
      "1\n",
      "Tuesday\n",
      "Wednesday\n",
      "Thursday\n",
      "Friday\n"
     ]
    },
    {
     "ename": "TypeError",
     "evalue": "%d format: a number is required, not str",
     "output_type": "error",
     "traceback": [
      "\u001b[0;31m---------------------------------------------------------------------------\u001b[0m",
      "\u001b[0;31mTypeError\u001b[0m                                 Traceback (most recent call last)",
      "\u001b[0;32m<ipython-input-14-0d941493d75f>\u001b[0m in \u001b[0;36m<module>\u001b[0;34m()\u001b[0m\n\u001b[1;32m     10\u001b[0m                                                    \u001b[0;31m# (we will see more on that in the future ;-) )\u001b[0m\u001b[0;34m\u001b[0m\u001b[0;34m\u001b[0m\u001b[0m\n\u001b[1;32m     11\u001b[0m     \u001b[0;32mif\u001b[0m \u001b[0mi\u001b[0m \u001b[0;32min\u001b[0m \u001b[0mweekend\u001b[0m\u001b[0;34m:\u001b[0m\u001b[0;34m\u001b[0m\u001b[0m\n\u001b[0;32m---> 12\u001b[0;31m         \u001b[0;32mprint\u001b[0m \u001b[0;34m\"%i\"\u001b[0m \u001b[0;34m%\u001b[0m \u001b[0mi\u001b[0m \u001b[0;34m+\u001b[0m \u001b[0;34m' (Weekend)'\u001b[0m\u001b[0;34m\u001b[0m\u001b[0m\n\u001b[0m\u001b[1;32m     13\u001b[0m     \u001b[0;32melse\u001b[0m\u001b[0;34m:\u001b[0m\u001b[0;34m\u001b[0m\u001b[0m\n\u001b[1;32m     14\u001b[0m         \u001b[0;32mprint\u001b[0m \u001b[0mi\u001b[0m\u001b[0;34m\u001b[0m\u001b[0m\n",
      "\u001b[0;31mTypeError\u001b[0m: %d format: a number is required, not str"
     ]
    }
   ],
   "source": [
    "#Declaring an array of strings with the weekdays\n",
    "week = [1, 'Tuesday', 'Wednesday', 'Thursday', 'Friday', 'Saturday', 'Sunday'] \n",
    "\n",
    "# Accessing the last two elements of the weekdays array (python is 0-indexed)\n",
    "weekend = [week[5], week[6]] \n",
    "\n",
    "#this is a for loop\n",
    "for i in week:\n",
    "    # this is what runs inside the for loop (idented) and written with a one line if statement \n",
    "                                                   # (we will see more on that in the future ;-) )\n",
    "    if i in weekend:\n",
    "        print \"%i\" % i + ' (Weekend)'\n",
    "    else:\n",
    "        print i\n",
    "\n",
    "        \n",
    "print \"Done\""
   ]
  },
  {
   "cell_type": "markdown",
   "metadata": {},
   "source": [
    "# Same, but different?"
   ]
  },
  {
   "cell_type": "markdown",
   "metadata": {},
   "source": [
    "Python have a lot of particularities, some people love it by it, some other hate it by the very same reasons. But in its essence, Python is just a programming language! Just a tool for whatever the purposes. And it shares a lot of characteristic with other languages."
   ]
  },
  {
   "cell_type": "markdown",
   "metadata": {},
   "source": [
    "### variables"
   ]
  },
  {
   "cell_type": "code",
   "execution_count": 15,
   "metadata": {},
   "outputs": [
    {
     "name": "stdout",
     "output_type": "stream",
     "text": [
      "1\n"
     ]
    }
   ],
   "source": [
    "a = 1\n",
    "print a"
   ]
  },
  {
   "cell_type": "markdown",
   "metadata": {},
   "source": [
    "### mathematic operations"
   ]
  },
  {
   "cell_type": "code",
   "execution_count": 16,
   "metadata": {},
   "outputs": [
    {
     "name": "stdout",
     "output_type": "stream",
     "text": [
      "a: 1\n",
      "b: 2\n",
      "c: 6\n"
     ]
    }
   ],
   "source": [
    "b = a + 1\n",
    "c = (a + b) * 2 #precedence of operators still applies though!\n",
    "\n",
    "print 'a: %i' % a #command for output using %i as a placeholder\n",
    "print 'b: %i' % b\n",
    "print 'c: %i' % c"
   ]
  },
  {
   "cell_type": "markdown",
   "metadata": {},
   "source": [
    "### if-else conditionals"
   ]
  },
  {
   "cell_type": "code",
   "execution_count": 17,
   "metadata": {},
   "outputs": [
    {
     "name": "stdout",
     "output_type": "stream",
     "text": [
      "What week day is today?Monday\n",
      "That is not a weekday!\n"
     ]
    }
   ],
   "source": [
    "day = raw_input(\"What week day is today?\") #this is how we input data on Jupyter, for regular python we use \"input\"\n",
    "\n",
    "if day in weekend: #if statement\n",
    "    print \"Today is %s\" % day + '(Weekend! Huray! =) )' #remember identation!\n",
    "elif day in week: #else if keyword, but nesting an if inside a regular else also works\n",
    "    print \"Today is %s\" % day\n",
    "else: #self explanatory, I guess...\n",
    "    print \"That is not a weekday!\""
   ]
  },
  {
   "cell_type": "markdown",
   "metadata": {},
   "source": [
    "### Loops"
   ]
  },
  {
   "cell_type": "code",
   "execution_count": 18,
   "metadata": {},
   "outputs": [
    {
     "name": "stdout",
     "output_type": "stream",
     "text": [
      "1\n",
      "Tuesday\n",
      "Wednesday\n",
      "Thursday\n",
      "Friday\n",
      "Saturday\n",
      "Sunday\n"
     ]
    }
   ],
   "source": [
    "#for loop\n",
    "for day in week:\n",
    "    print day"
   ]
  },
  {
   "cell_type": "code",
   "execution_count": 19,
   "metadata": {},
   "outputs": [
    {
     "name": "stdout",
     "output_type": "stream",
     "text": [
      "What day is today? (type 'quit' to exit)Monday\n",
      "Monday is not a weekday!\n",
      "What day is today? (type 'quit' to exit)Tuesday\n",
      "Tuesday is not weekend!\n",
      "What day is today? (type 'quit' to exit)quit\n",
      "quit is not a weekday!\n"
     ]
    }
   ],
   "source": [
    "#while loops\n",
    "day = '' #initialization of variables\n",
    "while day != 'quit': # != is the symbol of unequality (==, >, >=, <, <=)\n",
    "    day = raw_input(\"What day is today? (type 'quit' to exit)\")\n",
    "    if day in week:\n",
    "        if day in weekend:\n",
    "            print \"%s is weekend!\" % day\n",
    "        else:\n",
    "            print \"%s is not weekend!\" % day\n",
    "    else:\n",
    "        print \"%s is not a weekday!\" % day\n",
    "        "
   ]
  },
  {
   "cell_type": "markdown",
   "metadata": {},
   "source": [
    "### Functions"
   ]
  },
  {
   "cell_type": "markdown",
   "metadata": {},
   "source": [
    "In python, we do have functions. The difference from Matlab function is that there is not a need for putting them in different files (although sometimes this would be advisable)."
   ]
  },
  {
   "cell_type": "code",
   "execution_count": 20,
   "metadata": {
    "collapsed": true
   },
   "outputs": [],
   "source": [
    "def print_message(message_that_we_want_to_be_printed):\n",
    "    print message_that_we_want_to_be_printed"
   ]
  },
  {
   "cell_type": "code",
   "execution_count": 21,
   "metadata": {},
   "outputs": [
    {
     "name": "stdout",
     "output_type": "stream",
     "text": [
      "Please type in your message: Hello World\n",
      "Hello World\n"
     ]
    }
   ],
   "source": [
    "print_message(raw_input(\"Please type in your message: \"))"
   ]
  },
  {
   "cell_type": "markdown",
   "metadata": {},
   "source": [
    "Functions in python can or cannot return a value from its execution. This value is represented by the **return** clause."
   ]
  },
  {
   "cell_type": "code",
   "execution_count": 25,
   "metadata": {
    "collapsed": true
   },
   "outputs": [],
   "source": [
    "def sum_numbers(element1, element2):\n",
    "    result = element1 + element2\n",
    "    return result, \"hello\""
   ]
  },
  {
   "cell_type": "code",
   "execution_count": 26,
   "metadata": {},
   "outputs": [
    {
     "name": "stdout",
     "output_type": "stream",
     "text": [
      "(5044, 'hello')\n"
     ]
    }
   ],
   "source": [
    "print sum_numbers(1023, 4021)"
   ]
  },
  {
   "cell_type": "markdown",
   "metadata": {},
   "source": [
    "# But enough talk... Let's have some action!"
   ]
  },
  {
   "cell_type": "markdown",
   "metadata": {},
   "source": [
    "#### Exercise 1\n",
    "As part of an automated entrance system being developed for a bar, we need to develop a function that analyses the birth year of a costumer and tells the security system wether the costumer can or cannot enter the bar. For being allowed to enter, the costumer must be over 18."
   ]
  },
  {
   "cell_type": "code",
   "execution_count": 49,
   "metadata": {},
   "outputs": [],
   "source": [
    "#Function\n",
    "def check_age():\n",
    "    birthyear= raw_input(\"Please type your birth year: \")\n",
    "    if int(birthyear) >= 2000:\n",
    "            print \"You are not allowed to enter! Try again!\"\n",
    "    else:\n",
    "            print \"You are allowed! Grab your beer!\"\n",
    "    "
   ]
  },
  {
   "cell_type": "code",
   "execution_count": 50,
   "metadata": {
    "scrolled": false
   },
   "outputs": [
    {
     "name": "stdout",
     "output_type": "stream",
     "text": [
      "Please type your birth year: 1989\n",
      "You are allowed! Grab your beer!\n"
     ]
    }
   ],
   "source": [
    "#Test\n",
    "check_age()"
   ]
  },
  {
   "cell_type": "code",
   "execution_count": 51,
   "metadata": {},
   "outputs": [
    {
     "name": "stdout",
     "output_type": "stream",
     "text": [
      "Help on method raw_input in module ipykernel.kernelbase:\n",
      "\n",
      "raw_input(self, prompt='') method of ipykernel.ipkernel.IPythonKernel instance\n",
      "    Forward raw_input to frontends\n",
      "    \n",
      "    Raises\n",
      "    ------\n",
      "    StdinNotImplentedError if active frontend doesn't support stdin.\n",
      "\n"
     ]
    }
   ],
   "source": [
    "help(raw_input)"
   ]
  },
  {
   "cell_type": "markdown",
   "metadata": {},
   "source": [
    "#### Exercise 2\n",
    "The World Cup of Rock, Paper, Scissor has hired you to develop an automated judge for their official games. So your job is to create a judge system that compares the inputs from two players and decides who wins. <br><br>\n",
    "Bonus: Implement a single player mode!"
   ]
  },
  {
   "cell_type": "code",
   "execution_count": 53,
   "metadata": {},
   "outputs": [],
   "source": [
    "#Function\n",
    "def judge():\n",
    "    p1= raw_input(\"P1 please type rock, paper, scissor: \")\n",
    "    p2= raw_input(\"P2 please type rock, paper, scissor): \")\n",
    "    if p1 == p2:\n",
    "        print \"Try again!\"\n",
    "    elif p1 == 'rock': \n",
    "        if p2== 'paper': \n",
    "            print \"p2 wins!\"\n",
    "        elif  p2== 'scissor': \n",
    "            print \"p1 wins!\"\n",
    "    elif p1 == \"paper\":\n",
    "        if p2==\"scissor\":\n",
    "            print \"p2 wins!\"\n",
    "        elif p2 == \"rock\":\n",
    "            print \"p1 wins!\"\n",
    "    elif p1 == \"scissor\":\n",
    "        if p2 == \"rock\":\n",
    "            print \"p2 wins!\"\n",
    "        elif p2 == \"paper\":\n",
    "            print \"p1 wins!\"        "
   ]
  },
  {
   "cell_type": "code",
   "execution_count": 54,
   "metadata": {},
   "outputs": [
    {
     "name": "stdout",
     "output_type": "stream",
     "text": [
      "P1 please type rock, paper, scissor: paper\n",
      "P2 please type rock, paper, scissor): rock\n",
      "p1 wins!\n"
     ]
    }
   ],
   "source": [
    "#Test\n",
    "judge()\n"
   ]
  },
  {
   "cell_type": "markdown",
   "metadata": {},
   "source": [
    "#### Exercise 3\n",
    "There is a demand for a module which calculates the Factorial of a number. Since this will be heavily used, there is a need for it to be as small as possible. So it is your job to develop a factorial function which uses the least ammount of lines (comments doesn't count, you can comment as much as you want!)."
   ]
  },
  {
   "cell_type": "code",
   "execution_count": null,
   "metadata": {
    "collapsed": true
   },
   "outputs": [],
   "source": [
    "#Function"
   ]
  },
  {
   "cell_type": "code",
   "execution_count": null,
   "metadata": {
    "collapsed": true
   },
   "outputs": [],
   "source": [
    "#Test"
   ]
  },
  {
   "cell_type": "markdown",
   "metadata": {},
   "source": [
    "#### Revisiting the Classics 01 - The Calculator\n",
    "You have been hired you to implement a calculator from scratch, since your contratant do not believe in built-in functions! So your job is to implement the four basic operations, but no built in functions and operators are allowed besides the '+'. Negative numbers, however, are allowed! <br><br>\n",
    "\n",
    "Bonus: Returning quotient and rest on the division operation; Implementing exponentiation"
   ]
  },
  {
   "cell_type": "code",
   "execution_count": null,
   "metadata": {
    "collapsed": true
   },
   "outputs": [],
   "source": [
    "#Functions"
   ]
  },
  {
   "cell_type": "code",
   "execution_count": null,
   "metadata": {
    "collapsed": true
   },
   "outputs": [],
   "source": [
    "#Test"
   ]
  },
  {
   "cell_type": "markdown",
   "metadata": {},
   "source": [
    "#### Revisiting the Classics 02 - The ATM\n",
    "Your contratant want you now to implement the brain of their future super safe ATM machines! So your job is to create a function that gets as an input a value to be withdrawn and outputs the ammount of each money bill to be handed to the clients. Since they still don't trust built-in functions, you should use your basic operation functions in order to calculate the ammount of money to be handed."
   ]
  },
  {
   "cell_type": "code",
   "execution_count": null,
   "metadata": {
    "collapsed": true
   },
   "outputs": [],
   "source": [
    "#Function"
   ]
  },
  {
   "cell_type": "code",
   "execution_count": null,
   "metadata": {
    "collapsed": true
   },
   "outputs": [],
   "source": [
    "#Test"
   ]
  }
 ],
 "metadata": {
  "kernelspec": {
   "display_name": "Python 2",
   "language": "python",
   "name": "python2"
  },
  "language_info": {
   "codemirror_mode": {
    "name": "ipython",
    "version": 2
   },
   "file_extension": ".py",
   "mimetype": "text/x-python",
   "name": "python",
   "nbconvert_exporter": "python",
   "pygments_lexer": "ipython2",
   "version": "2.7.14"
  }
 },
 "nbformat": 4,
 "nbformat_minor": 2
}
